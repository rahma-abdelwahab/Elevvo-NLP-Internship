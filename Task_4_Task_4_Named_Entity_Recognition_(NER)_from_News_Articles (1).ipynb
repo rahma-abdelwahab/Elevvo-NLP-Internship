{
  "nbformat": 4,
  "nbformat_minor": 0,
  "metadata": {
    "colab": {
      "provenance": []
    },
    "kernelspec": {
      "name": "python3",
      "display_name": "Python 3"
    },
    "language_info": {
      "name": "python"
    }
  },
  "cells": [
    {
      "cell_type": "markdown",
      "source": [
        "# **Task 4**"
      ],
      "metadata": {
        "id": "yF8vGNQOwxhs"
      }
    },
    {
      "cell_type": "markdown",
      "source": [
        "## **Import Libraries**"
      ],
      "metadata": {
        "id": "WIMWk6RAWmJj"
      }
    },
    {
      "cell_type": "code",
      "source": [
        "import kagglehub\n",
        "import os\n",
        "import pandas as pd"
      ],
      "metadata": {
        "id": "iayKQFnxWkWm"
      },
      "execution_count": null,
      "outputs": []
    },
    {
      "cell_type": "code",
      "source": [
        "!pip install -q spacy\n",
        "!python -m spacy download en_core_web_sm"
      ],
      "metadata": {
        "colab": {
          "base_uri": "https://localhost:8080/"
        },
        "id": "blAX8_auX_Zr",
        "outputId": "346b03d5-adf0-418f-be4e-353b290c6f53"
      },
      "execution_count": null,
      "outputs": [
        {
          "output_type": "stream",
          "name": "stdout",
          "text": [
            "Collecting en-core-web-sm==3.8.0\n",
            "  Downloading https://github.com/explosion/spacy-models/releases/download/en_core_web_sm-3.8.0/en_core_web_sm-3.8.0-py3-none-any.whl (12.8 MB)\n",
            "\u001b[2K     \u001b[90m━━━━━━━━━━━━━━━━━━━━━━━━━━━━━━━━━━━━━━━━\u001b[0m \u001b[32m12.8/12.8 MB\u001b[0m \u001b[31m80.5 MB/s\u001b[0m eta \u001b[36m0:00:00\u001b[0m\n",
            "\u001b[?25h\u001b[38;5;2m✔ Download and installation successful\u001b[0m\n",
            "You can now load the package via spacy.load('en_core_web_sm')\n",
            "\u001b[38;5;3m⚠ Restart to reload dependencies\u001b[0m\n",
            "If you are in a Jupyter or Colab notebook, you may need to restart Python in\n",
            "order to load all the package's dependencies. You can do this by selecting the\n",
            "'Restart kernel' or 'Restart runtime' option.\n"
          ]
        }
      ]
    },
    {
      "cell_type": "code",
      "source": [
        "!pip install -q spacy\n",
        "!python -m spacy download en_core_web_sm\n",
        "!python -m spacy download en_core_web_md\n",
        "\n",
        "import spacy\n",
        "from spacy import displacy"
      ],
      "metadata": {
        "id": "lThpTW0BZyqA"
      },
      "execution_count": null,
      "outputs": []
    },
    {
      "cell_type": "code",
      "source": [
        "import spacy\n",
        "nlp = spacy.load(\"en_core_web_sm\")"
      ],
      "metadata": {
        "id": "ZY1aG1DsYBYD"
      },
      "execution_count": null,
      "outputs": []
    },
    {
      "cell_type": "code",
      "source": [
        "from IPython.display import display, HTML"
      ],
      "metadata": {
        "id": "RJyOoei3YaCo"
      },
      "execution_count": null,
      "outputs": []
    },
    {
      "cell_type": "markdown",
      "source": [
        "## **Load the data and Exploration**"
      ],
      "metadata": {
        "id": "yR1S49a0Wql-"
      }
    },
    {
      "cell_type": "code",
      "source": [
        "path = kagglehub.dataset_download(\"alaakhaled/conll003-englishversion\")\n",
        "\n",
        "print(\"Path to dataset files:\", path)\n",
        "print(\"Files in directory:\", os.listdir(path))\n"
      ],
      "metadata": {
        "colab": {
          "base_uri": "https://localhost:8080/"
        },
        "id": "KVjNE51_Wjc_",
        "outputId": "a274a1d4-67e6-432e-ca4a-28c44febbaf9"
      },
      "execution_count": null,
      "outputs": [
        {
          "output_type": "stream",
          "name": "stdout",
          "text": [
            "Downloading from https://www.kaggle.com/api/v1/datasets/download/alaakhaled/conll003-englishversion?dataset_version_number=1...\n"
          ]
        },
        {
          "output_type": "stream",
          "name": "stderr",
          "text": [
            "100%|██████████| 960k/960k [00:00<00:00, 30.6MB/s]"
          ]
        },
        {
          "output_type": "stream",
          "name": "stdout",
          "text": [
            "Extracting files...\n",
            "Path to dataset files: /root/.cache/kagglehub/datasets/alaakhaled/conll003-englishversion/versions/1\n",
            "Files in directory: ['train.txt', 'test.txt', 'metadata', 'valid.txt']\n"
          ]
        },
        {
          "output_type": "stream",
          "name": "stderr",
          "text": [
            "\n"
          ]
        }
      ]
    },
    {
      "cell_type": "code",
      "source": [
        "# Load CoNLL-2003 train set\n",
        "file_path = os.path.join(path, 'train.txt')"
      ],
      "metadata": {
        "id": "mWC7l7k6W12c"
      },
      "execution_count": null,
      "outputs": []
    },
    {
      "cell_type": "code",
      "source": [
        "# Parse CoNLL-2003 file\n",
        "data = []\n",
        "with open(file_path, 'r') as f:\n",
        "    sentence = []\n",
        "    for line in f:\n",
        "        line = line.strip()\n",
        "        if line:\n",
        "            parts = line.split()\n",
        "            if len(parts) == 4:\n",
        "                word, pos, chunk, ner = parts\n",
        "                sentence.append((word, ner))\n",
        "        else:\n",
        "            if sentence:\n",
        "                data.append(sentence)\n",
        "                sentence = []\n",
        "    if sentence:\n",
        "        data.append(sentence)\n",
        "\n",
        "print(f\"\\nLoaded {len(data)} sentences.\")\n"
      ],
      "metadata": {
        "colab": {
          "base_uri": "https://localhost:8080/"
        },
        "id": "CJKaXaW8W4LI",
        "outputId": "fce4c6ca-d2f7-43bd-9fc4-c1ee0c2da2f2"
      },
      "execution_count": null,
      "outputs": [
        {
          "output_type": "stream",
          "name": "stdout",
          "text": [
            "\n",
            "Loaded 14987 sentences.\n"
          ]
        }
      ]
    },
    {
      "cell_type": "markdown",
      "metadata": {
        "id": "45081fdb"
      },
      "source": [
        "## **Rule-based NER**"
      ]
    },
    {
      "cell_type": "code",
      "source": [
        "def rule_based_ner(sentence):\n",
        "    entities = []\n",
        "    for i, (word, ner) in enumerate(sentence):\n",
        "        # Rule: Capitalized words (not first in sentence) are entities\n",
        "        if word[0].isupper() and i != 0:\n",
        "            entities.append((word, \"POTENTIAL_ENTITY\"))\n",
        "    return entities\n",
        "\n",
        "processed_data = []\n",
        "for sentence in data:\n",
        "    processed_sentence = []\n",
        "    for word, ner in sentence:\n",
        "        processed_sentence.append((word, ner))\n",
        "    processed_data.append(processed_sentence)\n"
      ],
      "metadata": {
        "id": "alDhtLX4W9I_"
      },
      "execution_count": null,
      "outputs": []
    },
    {
      "cell_type": "code",
      "source": [
        "print(\"\\nRule-based NER results (first 2 sentences):\")\n",
        "for i, sent in enumerate(data[:5]):\n",
        "    print(f\"Sentence {i+1}: {rule_based_ner(sent)}\")\n"
      ],
      "metadata": {
        "colab": {
          "base_uri": "https://localhost:8080/"
        },
        "id": "BYIvB6awXBsv",
        "outputId": "532fa6dc-6456-4047-d2c5-5fb028bf871c"
      },
      "execution_count": null,
      "outputs": [
        {
          "output_type": "stream",
          "name": "stdout",
          "text": [
            "\n",
            "Rule-based NER results (first 2 sentences):\n",
            "Sentence 1: []\n",
            "Sentence 2: [('German', 'POTENTIAL_ENTITY'), ('British', 'POTENTIAL_ENTITY')]\n",
            "Sentence 3: [('Blackburn', 'POTENTIAL_ENTITY')]\n",
            "Sentence 4: []\n",
            "Sentence 5: [('European', 'POTENTIAL_ENTITY'), ('Commission', 'POTENTIAL_ENTITY'), ('Thursday', 'POTENTIAL_ENTITY'), ('German', 'POTENTIAL_ENTITY'), ('British', 'POTENTIAL_ENTITY')]\n"
          ]
        }
      ]
    },
    {
      "cell_type": "markdown",
      "metadata": {
        "id": "9df920ef"
      },
      "source": [
        "## **Model-based NER (spaCy)**"
      ]
    },
    {
      "cell_type": "code",
      "metadata": {
        "colab": {
          "base_uri": "https://localhost:8080/"
        },
        "id": "04bd8c63",
        "outputId": "5e2d11cd-2494-4b4e-d636-2edff6fad3f8"
      },
      "source": [
        "# Function to perform model-based NER\n",
        "def model_based_ner(sentence_tokens):\n",
        "    text = \" \".join([word for word, tag in sentence_tokens])\n",
        "    doc = nlp(text)\n",
        "    entities = []\n",
        "    for ent in doc.ents:\n",
        "        entities.append((ent.text, ent.label_))\n",
        "    return entities\n",
        "\n",
        "# Apply model-based NER to the first few processed sentences\n",
        "print(\"Model-based NER results for the first 5 sentences:\")\n",
        "for i, sent in enumerate(processed_data[:5]):\n",
        "    model_entities = model_based_ner(sent)\n",
        "    print(f\"Sentence {i+1}: {model_entities}\")"
      ],
      "execution_count": null,
      "outputs": [
        {
          "output_type": "stream",
          "name": "stdout",
          "text": [
            "Model-based NER results for the first 5 sentences:\n",
            "Sentence 1: []\n",
            "Sentence 2: [('EU', 'ORG'), ('German', 'NORP'), ('British', 'NORP')]\n",
            "Sentence 3: [('Peter Blackburn', 'PERSON')]\n",
            "Sentence 4: [('BRUSSELS', 'GPE'), ('1996-08-22', 'DATE')]\n",
            "Sentence 5: [('The European Commission', 'ORG'), ('Thursday', 'DATE'), ('German', 'NORP'), ('British', 'NORP')]\n"
          ]
        }
      ]
    },
    {
      "cell_type": "markdown",
      "metadata": {
        "id": "5a114634"
      },
      "source": [
        "## **Highlight and categorize entities**"
      ]
    },
    {
      "cell_type": "code",
      "metadata": {
        "colab": {
          "base_uri": "https://localhost:8080/",
          "height": 213
        },
        "id": "1e348d12",
        "outputId": "2ad29fd2-97ac-427d-e513-9a5a2e1cfaf6"
      },
      "source": [
        "def highlight_entities(sentence_tokens, entities):\n",
        "    text = \" \".join([word for word, tag in sentence_tokens])\n",
        "    html_text = text\n",
        "\n",
        "    # Sort entities by their order in text\n",
        "    sorted_entities = sorted(entities, key=lambda x: text.find(x[0]))\n",
        "\n",
        "    for entity_text, entity_type in sorted_entities:\n",
        "        html_text = html_text.replace(\n",
        "            entity_text,\n",
        "            f'<mark style=\"background-color: #FFD700\" data-entity=\"{entity_type}\">'\n",
        "            f'{entity_text} ({entity_type})</mark>'\n",
        "        )\n",
        "    return html_text\n",
        "\n",
        "# Example of highlighting using model-based NER results for the first 5 sentences\n",
        "print(\"Highlighted entities using Model-based NER:\")\n",
        "for i, sent in enumerate(processed_data[:5]):\n",
        "    model_entities = model_based_ner(sent)\n",
        "    highlighted_html = highlight_entities(sent, model_entities)\n",
        "    print(f\"Sentence {i+1}:\")\n",
        "    display(HTML(highlighted_html))"
      ],
      "execution_count": null,
      "outputs": [
        {
          "output_type": "stream",
          "name": "stdout",
          "text": [
            "Highlighted entities using Model-based NER:\n",
            "Sentence 1:\n"
          ]
        },
        {
          "output_type": "display_data",
          "data": {
            "text/plain": [
              "<IPython.core.display.HTML object>"
            ],
            "text/html": [
              "-DOCSTART-"
            ]
          },
          "metadata": {}
        },
        {
          "output_type": "stream",
          "name": "stdout",
          "text": [
            "Sentence 2:\n"
          ]
        },
        {
          "output_type": "display_data",
          "data": {
            "text/plain": [
              "<IPython.core.display.HTML object>"
            ],
            "text/html": [
              "<mark style=\"background-color: #FFD700\" data-entity=\"ORG\">EU (ORG)</mark> rejects <mark style=\"background-color: #FFD700\" data-entity=\"NORP\">German (NORP)</mark> call to boycott <mark style=\"background-color: #FFD700\" data-entity=\"NORP\">British (NORP)</mark> lamb ."
            ]
          },
          "metadata": {}
        },
        {
          "output_type": "stream",
          "name": "stdout",
          "text": [
            "Sentence 3:\n"
          ]
        },
        {
          "output_type": "display_data",
          "data": {
            "text/plain": [
              "<IPython.core.display.HTML object>"
            ],
            "text/html": [
              "<mark style=\"background-color: #FFD700\" data-entity=\"PERSON\">Peter Blackburn (PERSON)</mark>"
            ]
          },
          "metadata": {}
        },
        {
          "output_type": "stream",
          "name": "stdout",
          "text": [
            "Sentence 4:\n"
          ]
        },
        {
          "output_type": "display_data",
          "data": {
            "text/plain": [
              "<IPython.core.display.HTML object>"
            ],
            "text/html": [
              "<mark style=\"background-color: #FFD700\" data-entity=\"GPE\">BRUSSELS (GPE)</mark> <mark style=\"background-color: #FFD700\" data-entity=\"DATE\">1996-08-22 (DATE)</mark>"
            ]
          },
          "metadata": {}
        },
        {
          "output_type": "stream",
          "name": "stdout",
          "text": [
            "Sentence 5:\n"
          ]
        },
        {
          "output_type": "display_data",
          "data": {
            "text/plain": [
              "<IPython.core.display.HTML object>"
            ],
            "text/html": [
              "<mark style=\"background-color: #FFD700\" data-entity=\"ORG\">The European Commission (ORG)</mark> said on <mark style=\"background-color: #FFD700\" data-entity=\"DATE\">Thursday (DATE)</mark> it disagreed with <mark style=\"background-color: #FFD700\" data-entity=\"NORP\">German (NORP)</mark> advice to consumers to shun <mark style=\"background-color: #FFD700\" data-entity=\"NORP\">British (NORP)</mark> lamb until scientists determine whether mad cow disease can be transmitted to sheep ."
            ]
          },
          "metadata": {}
        }
      ]
    },
    {
      "cell_type": "markdown",
      "source": [
        "# **Bouns**"
      ],
      "metadata": {
        "id": "CCiEu61FY4Fh"
      }
    },
    {
      "cell_type": "code",
      "source": [
        "# Load two spaCy models\n",
        "nlp_sm = spacy.load(\"en_core_web_sm\")\n",
        "nlp_md = spacy.load(\"en_core_web_md\")"
      ],
      "metadata": {
        "id": "1Or41fN5Z6xU"
      },
      "execution_count": null,
      "outputs": []
    },
    {
      "cell_type": "code",
      "source": [
        "def model_based_ner(sentence_tokens, nlp_model):\n",
        "    text = \" \".join([word for word, tag in sentence_tokens])\n",
        "    doc = nlp_model(text)\n",
        "    return doc"
      ],
      "metadata": {
        "id": "tK_SkwmfZ8YP"
      },
      "execution_count": null,
      "outputs": []
    },
    {
      "cell_type": "code",
      "source": [
        "# Pick first 2 sentences for visualization\n",
        "sample_sentences = data[:2]\n",
        "\n",
        "print(\"\\nModel-based NER comparison:\")\n",
        "\n",
        "for i, sent in enumerate(sample_sentences):\n",
        "    print(f\"\\n----- Sentence {i+1} -----\")\n",
        "    text = \" \".join([w for w, t in sent])\n",
        "    print(\"Text:\", text)\n",
        "\n",
        "    # Small model\n",
        "    doc_sm = model_based_ner(sent, nlp_sm)\n",
        "    print(\"Entities (sm):\", [(ent.text, ent.label_) for ent in doc_sm.ents])\n",
        "\n",
        "    # Medium model\n",
        "    doc_md = model_based_ner(sent, nlp_md)\n",
        "    print(\"Entities (md):\", [(ent.text, ent.label_) for ent in doc_md.ents])\n",
        "\n",
        "    # Visualize with displaCy\n",
        "    print(\"\\nVisualization (sm):\")\n",
        "    displacy.render(doc_sm, style=\"ent\", jupyter=True)\n",
        "    print(\"\\nVisualization (md):\")\n",
        "    displacy.render(doc_md, style=\"ent\", jupyter=True)"
      ],
      "metadata": {
        "colab": {
          "base_uri": "https://localhost:8080/",
          "height": 522
        },
        "id": "YTnI0CixZfg3",
        "outputId": "bc531cdb-dcee-4dd3-ceed-531ccfd8af56"
      },
      "execution_count": null,
      "outputs": [
        {
          "output_type": "stream",
          "name": "stdout",
          "text": [
            "\n",
            "Model-based NER comparison:\n",
            "\n",
            "----- Sentence 1 -----\n",
            "Text: -DOCSTART-\n",
            "Entities (sm): []\n",
            "Entities (md): [('-DOCSTART-', 'ORG')]\n",
            "\n",
            "Visualization (sm):\n"
          ]
        },
        {
          "output_type": "display_data",
          "data": {
            "text/plain": [
              "<IPython.core.display.HTML object>"
            ],
            "text/html": [
              "<span class=\"tex2jax_ignore\"><div class=\"entities\" style=\"line-height: 2.5; direction: ltr\">-DOCSTART-</div></span>"
            ]
          },
          "metadata": {}
        },
        {
          "output_type": "stream",
          "name": "stdout",
          "text": [
            "\n",
            "Visualization (md):\n"
          ]
        },
        {
          "output_type": "display_data",
          "data": {
            "text/plain": [
              "<IPython.core.display.HTML object>"
            ],
            "text/html": [
              "<span class=\"tex2jax_ignore\"><div class=\"entities\" style=\"line-height: 2.5; direction: ltr\">\n",
              "<mark class=\"entity\" style=\"background: #7aecec; padding: 0.45em 0.6em; margin: 0 0.25em; line-height: 1; border-radius: 0.35em;\">\n",
              "    -DOCSTART-\n",
              "    <span style=\"font-size: 0.8em; font-weight: bold; line-height: 1; border-radius: 0.35em; vertical-align: middle; margin-left: 0.5rem\">ORG</span>\n",
              "</mark>\n",
              "</div></span>"
            ]
          },
          "metadata": {}
        },
        {
          "output_type": "stream",
          "name": "stdout",
          "text": [
            "\n",
            "----- Sentence 2 -----\n",
            "Text: EU rejects German call to boycott British lamb .\n",
            "Entities (sm): [('EU', 'ORG'), ('German', 'NORP'), ('British', 'NORP')]\n",
            "Entities (md): [('EU', 'ORG'), ('German', 'NORP'), ('British', 'NORP')]\n",
            "\n",
            "Visualization (sm):\n"
          ]
        },
        {
          "output_type": "display_data",
          "data": {
            "text/plain": [
              "<IPython.core.display.HTML object>"
            ],
            "text/html": [
              "<span class=\"tex2jax_ignore\"><div class=\"entities\" style=\"line-height: 2.5; direction: ltr\">\n",
              "<mark class=\"entity\" style=\"background: #7aecec; padding: 0.45em 0.6em; margin: 0 0.25em; line-height: 1; border-radius: 0.35em;\">\n",
              "    EU\n",
              "    <span style=\"font-size: 0.8em; font-weight: bold; line-height: 1; border-radius: 0.35em; vertical-align: middle; margin-left: 0.5rem\">ORG</span>\n",
              "</mark>\n",
              " rejects \n",
              "<mark class=\"entity\" style=\"background: #c887fb; padding: 0.45em 0.6em; margin: 0 0.25em; line-height: 1; border-radius: 0.35em;\">\n",
              "    German\n",
              "    <span style=\"font-size: 0.8em; font-weight: bold; line-height: 1; border-radius: 0.35em; vertical-align: middle; margin-left: 0.5rem\">NORP</span>\n",
              "</mark>\n",
              " call to boycott \n",
              "<mark class=\"entity\" style=\"background: #c887fb; padding: 0.45em 0.6em; margin: 0 0.25em; line-height: 1; border-radius: 0.35em;\">\n",
              "    British\n",
              "    <span style=\"font-size: 0.8em; font-weight: bold; line-height: 1; border-radius: 0.35em; vertical-align: middle; margin-left: 0.5rem\">NORP</span>\n",
              "</mark>\n",
              " lamb .</div></span>"
            ]
          },
          "metadata": {}
        },
        {
          "output_type": "stream",
          "name": "stdout",
          "text": [
            "\n",
            "Visualization (md):\n"
          ]
        },
        {
          "output_type": "display_data",
          "data": {
            "text/plain": [
              "<IPython.core.display.HTML object>"
            ],
            "text/html": [
              "<span class=\"tex2jax_ignore\"><div class=\"entities\" style=\"line-height: 2.5; direction: ltr\">\n",
              "<mark class=\"entity\" style=\"background: #7aecec; padding: 0.45em 0.6em; margin: 0 0.25em; line-height: 1; border-radius: 0.35em;\">\n",
              "    EU\n",
              "    <span style=\"font-size: 0.8em; font-weight: bold; line-height: 1; border-radius: 0.35em; vertical-align: middle; margin-left: 0.5rem\">ORG</span>\n",
              "</mark>\n",
              " rejects \n",
              "<mark class=\"entity\" style=\"background: #c887fb; padding: 0.45em 0.6em; margin: 0 0.25em; line-height: 1; border-radius: 0.35em;\">\n",
              "    German\n",
              "    <span style=\"font-size: 0.8em; font-weight: bold; line-height: 1; border-radius: 0.35em; vertical-align: middle; margin-left: 0.5rem\">NORP</span>\n",
              "</mark>\n",
              " call to boycott \n",
              "<mark class=\"entity\" style=\"background: #c887fb; padding: 0.45em 0.6em; margin: 0 0.25em; line-height: 1; border-radius: 0.35em;\">\n",
              "    British\n",
              "    <span style=\"font-size: 0.8em; font-weight: bold; line-height: 1; border-radius: 0.35em; vertical-align: middle; margin-left: 0.5rem\">NORP</span>\n",
              "</mark>\n",
              " lamb .</div></span>"
            ]
          },
          "metadata": {}
        }
      ]
    }
  ]
}